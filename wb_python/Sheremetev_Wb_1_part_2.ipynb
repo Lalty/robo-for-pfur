{
 "cells": [
  {
   "cell_type": "code",
   "execution_count": 1,
   "id": "091e3150-e202-4193-a0d4-461cb8411de7",
   "metadata": {},
   "outputs": [],
   "source": [
    "import pandas as pf\n",
    "import matplotlib.pyplot as plt\n",
    "import numpy as np"
   ]
  },
  {
   "cell_type": "code",
   "execution_count": 8,
   "id": "8f5057e8-9944-4178-99b2-c351fe090f2d",
   "metadata": {},
   "outputs": [
    {
     "name": "stdin",
     "output_type": "stream",
     "text": [
      "Введите число:  -9\n"
     ]
    },
    {
     "name": "stdout",
     "output_type": "stream",
     "text": [
      "Число принадлежит первому интервалу\n"
     ]
    }
   ],
   "source": [
    "#Task 1\n",
    "x = float(input(\"Введите число: \"))\n",
    "if x < -5:\n",
    "    print(\"Число принадлежит первому интервалу\")\n",
    "elif x >= -5 and x <=5:\n",
    "    print(\"Число принадлежит второму интервалу\")\n",
    "elif x > 5:\n",
    "    print(\"Число принадлежит третьему интервалу\")"
   ]
  },
  {
   "cell_type": "code",
   "execution_count": 13,
   "id": "5c8f27ba-98d8-4d44-a252-7c19b9b14e8e",
   "metadata": {},
   "outputs": [
    {
     "name": "stdin",
     "output_type": "stream",
     "text": [
      "Ведите год:  1700\n"
     ]
    },
    {
     "name": "stdout",
     "output_type": "stream",
     "text": [
      "год високосный\n"
     ]
    }
   ],
   "source": [
    "#Task 2\n",
    "x = float(input(\"Ведите год: \"))\n",
    "if x%4 == 0:\n",
    "    print(\"год високосный\")\n",
    "elif x%100 == 0 and x%400 == 0:\n",
    "    print(\"год високосный\")\n",
    "else:\n",
    "    print(\"год не високосный\")"
   ]
  },
  {
   "cell_type": "code",
   "execution_count": 9,
   "id": "23901747-64d9-4c12-9663-cf66a7da0cfc",
   "metadata": {},
   "outputs": [
    {
     "data": {
      "text/plain": [
       "[1,\n",
       " 1,\n",
       " 'qwe',\n",
       " 'qwe',\n",
       " None,\n",
       " None,\n",
       " [2, 2, 'test', 'test'],\n",
       " [2, 2, 'test', 'test'],\n",
       " {1, 2, 3, 4},\n",
       " {1, 2, 3, 4},\n",
       " True,\n",
       " True]"
      ]
     },
     "execution_count": 9,
     "metadata": {},
     "output_type": "execute_result"
    }
   ],
   "source": [
    "#Task 3\n",
    "x = [1, 1, \"qwe\", \"qwe\", None, None, \n",
    "     [2, 2, \"test\",\"test\"], \n",
    "     [2, 2, \"test\", \"test\"],\n",
    "     {4, 4, 3, 3, 2, 2, 1, 1}, {4, 4, 3, 3, 2, 2, 1, 1},\n",
    "     bool(1), bool(1)]\n",
    "\n",
    "\n",
    "x\n",
    "# Элементы set выводятся по возрастанию\n",
    "#Скорее всего из-за того, что поиск будет осуществляться быстрее, если\n",
    "#В памяти оин будут упорядочены"
   ]
  },
  {
   "cell_type": "code",
   "execution_count": 38,
   "id": "b6a3b291-08b4-4fd5-899f-be9ff8dfe85f",
   "metadata": {},
   "outputs": [
    {
     "name": "stdout",
     "output_type": "stream",
     "text": [
      "element:  [2, 'a', [4, 'stroka', 6.56], True]\n"
     ]
    }
   ],
   "source": [
    "#Task 4\n",
    "c_3 = [2, 'a', [4, 'stroka', 6.56], {5, 2, 3, 3, 4}]\n",
    "c_3.pop()\n",
    "c_3.append(bool(1))\n",
    "print(\"element: \", c_3)"
   ]
  },
  {
   "cell_type": "code",
   "execution_count": 13,
   "id": "bb4c113d-a29c-4650-9daa-fa09f1044e6b",
   "metadata": {},
   "outputs": [
    {
     "name": "stdout",
     "output_type": "stream",
     "text": [
      "Element 2 r\n",
      "Element 0 3\n",
      "Last Element {3, 5, 6}\n",
      "index b 1\n",
      "Check Element True\n",
      "Check Element False\n",
      "element 'r' in c\n",
      "Befor change:  [3, 'b', 'r', ['test', 4, True], {3, 5, 6}]\n",
      "After change:  [3, 'test', 'r', ['test', 4, True], {3, 5, 6}]\n",
      "size list 5\n"
     ]
    }
   ],
   "source": [
    "#Task 5\n",
    "a = [3,\"b\",\"r\",[\"test\",4,bool(1)],{3,5,6,5,3}]\n",
    "print(\"Element 2\", a[2])\n",
    "print(\"Element 0\", a[0])\n",
    "print(\"Last Element\", a[-1])\n",
    "print(\"index b\", a.index('b'))\n",
    "print(\"Check Element\", \"r\" in a)\n",
    "print(\"Check Element\", 9 in a)\n",
    "if \"r\" in a:\n",
    "    print(\"element 'r' in c\")\n",
    "print(\"Befor change: \", a)\n",
    "a[1] = \"test\"\n",
    "print(\"After change: \", a)\n",
    "print(\"size list\", len(a))"
   ]
  },
  {
   "cell_type": "code",
   "execution_count": 12,
   "id": "9a80739f-2910-4f59-93db-1e520a2b065b",
   "metadata": {},
   "outputs": [
    {
     "name": "stdout",
     "output_type": "stream",
     "text": [
      "Element 1-4 [1, 2, 3, 4]\n",
      "list element k=3, i=1, j=8 [1, 4, 7]\n",
      "Back list [11, 10, 9, 8, 7, 6, 5, 4, 3, 2, 1, 0]\n",
      "d:  [6, 4, 2, 0]\n",
      "back d:  [0, 2, 4, 6]\n",
      "===============================================\n",
      "[8, 1, 6, 3, 4, 5, 2, 7, 0, 9]\n"
     ]
    }
   ],
   "source": [
    "#Task 6\n",
    "x1 = [0, 1, 2, 3, 4, 5, 6, 7, 8, 9, 10, 11]\n",
    "print(\"Element 1-4\", x1[1:5])\n",
    "print(\"list element k=3, i=1, j=8\", x1[1:8:3])\n",
    "print(\"Back list\", x1[::-1])\n",
    "x2 = x[2:9:2]\n",
    "print(\"d: \", x2)\n",
    "print(\"back d: \", x2[::-1])\n",
    "\n",
    "print('===============================================')\n",
    "\n",
    "x = [0, 1, 2, 3, 4, 5, 6, 7, 8, 9]\n",
    "odd = x[0:9:2][::-1]\n",
    "for i in odd:\n",
    "    x[odd.index(i)*2] = odd[odd.index(i)]\n",
    "print(x)\n",
    "\n"
   ]
  },
  {
   "cell_type": "code",
   "execution_count": null,
   "id": "56c78c79-528a-4a34-8f46-39733ba09955",
   "metadata": {},
   "outputs": [
    {
     "name": "stdout",
     "output_type": "stream",
     "text": [
      "10\n",
      "7\n",
      "4\n",
      "1\n"
     ]
    }
   ],
   "source": [
    "#Task 7\n",
    "x = 10\n",
    "while x >= 1:\n",
    "    print(x)\n",
    "    x -=3"
   ]
  },
  {
   "cell_type": "code",
   "execution_count": 10,
   "id": "db4d9575-9ce3-4b7f-8a22-12d8abdf8bbd",
   "metadata": {},
   "outputs": [
    {
     "name": "stdout",
     "output_type": "stream",
     "text": [
      "рост\n",
      "вес\n",
      "пол\n",
      "возраст\n",
      "дата рождения\n",
      "вставит признак\n"
     ]
    }
   ],
   "source": [
    "#Task 8\n",
    "signs = [\"рост\", \"вес\", \"пол\", \"возраст\", \"дата рождения\", \"вставит признак\"]\n",
    "for sign in signs:\n",
    "    print(sign)"
   ]
  },
  {
   "cell_type": "code",
   "execution_count": 8,
   "id": "4eb2e87d-a945-4ef4-bb02-a3e120a19041",
   "metadata": {},
   "outputs": [
    {
     "name": "stdout",
     "output_type": "stream",
     "text": [
      "[2, 3, 4, 5, 6, 7, 8, 9, 10, 11, 12, 13, 14, 15]\n"
     ]
    }
   ],
   "source": [
    "#Task 9\n",
    "list_item = range(2,16,1)\n",
    "print(list(list_item))"
   ]
  },
  {
   "cell_type": "code",
   "execution_count": 15,
   "id": "8ff1abb3-78da-446c-b386-a568c20ab98d",
   "metadata": {},
   "outputs": [
    {
     "name": "stdout",
     "output_type": "stream",
     "text": [
      "105\n",
      "80\n",
      "55\n",
      "30\n",
      "5\n"
     ]
    }
   ],
   "source": [
    "#Task 10\n",
    "for i in range(105,4, -25):\n",
    "    print(i)"
   ]
  }
 ],
 "metadata": {
  "kernelspec": {
   "display_name": "Python 3 (ipykernel)",
   "language": "python",
   "name": "python3"
  },
  "language_info": {
   "codemirror_mode": {
    "name": "ipython",
    "version": 3
   },
   "file_extension": ".py",
   "mimetype": "text/x-python",
   "name": "python",
   "nbconvert_exporter": "python",
   "pygments_lexer": "ipython3",
   "version": "3.9.12"
  }
 },
 "nbformat": 4,
 "nbformat_minor": 5
}

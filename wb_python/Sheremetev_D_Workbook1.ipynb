{
 "cells": [
  {
   "cell_type": "code",
   "execution_count": 1,
   "id": "72d5b15b-9b05-4cf8-a609-18a29237b94e",
   "metadata": {},
   "outputs": [
    {
     "name": "stdout",
     "output_type": "stream",
     "text": [
      "4 8 6 0\n"
     ]
    }
   ],
   "source": [
    "#Задание 1\n",
    "print(2 + 2, 2**3, 2 * 3, 2//9)"
   ]
  },
  {
   "cell_type": "code",
   "execution_count": 2,
   "id": "ec5f597f-6345-4313-bd3b-dd3049360959",
   "metadata": {},
   "outputs": [
    {
     "data": {
      "text/plain": [
       "1427247692705959881058285969449495136382746624"
      ]
     },
     "execution_count": 2,
     "metadata": {},
     "output_type": "execute_result"
    }
   ],
   "source": [
    "#Задание 2\n",
    "q = 2**150 \n",
    "q"
   ]
  },
  {
   "cell_type": "code",
   "execution_count": 9,
   "id": "8a0a5b10-3c5c-4586-bbe7-7af1728ee718",
   "metadata": {},
   "outputs": [
    {
     "name": "stdout",
     "output_type": "stream",
     "text": [
      "391.3539299999999 22.5 13 0.4\n"
     ]
    }
   ],
   "source": [
    "#Задание 3\n",
    "print(3.3**5, 2.5*9, 13, 2/5)"
   ]
  },
  {
   "cell_type": "code",
   "execution_count": 10,
   "id": "703e82b7-80b1-4f89-9b46-3aec0a4d9e4d",
   "metadata": {},
   "outputs": [
    {
     "name": "stdout",
     "output_type": "stream",
     "text": [
      "a=True (1), b=False(0): 1 2 0\n"
     ]
    }
   ],
   "source": [
    "#Task 4\n",
    "a = True\n",
    "b = False\n",
    "print('a=True (1), b=False(0):', a + b, a + a, b + b)"
   ]
  },
  {
   "cell_type": "code",
   "execution_count": null,
   "id": "9c03b850-9bf1-495d-afb5-1f144958b832",
   "metadata": {},
   "outputs": [
    {
     "name": "stdin",
     "output_type": "stream",
     "text": [
      "напишите БФБО (наверное):  Иусмд-01-22\n"
     ]
    }
   ],
   "source": [
    "# Task5 \n",
    "#Не очень понял чтов задании от меня требуется, поэтому просто распишу инпуты как понял\n",
    "x = input('напишите БФБО (наверное): ')\n",
    "y = input('Напишите номер группы: ')\n",
    "print(x, y)\n",
    "#надеюсь вы хотели увидеть что-то подобное"
   ]
  },
  {
   "cell_type": "code",
   "execution_count": 21,
   "id": "1ce40785-31fc-4d51-b453-7fcd1daeccab",
   "metadata": {},
   "outputs": [
    {
     "name": "stdin",
     "output_type": "stream",
     "text": [
      "введите первое число типа float:  15.2\n",
      "введите второе число типа int:  7\n"
     ]
    },
    {
     "name": "stdout",
     "output_type": "stream",
     "text": [
      "22.2 <class 'float'>\n"
     ]
    }
   ],
   "source": [
    "#Task 6\n",
    "x = float(input('введите первое число типа float: '))\n",
    "y = int(input('введите второе число типа int: '))\n",
    "print(x + y, type(x+y))"
   ]
  },
  {
   "cell_type": "code",
   "execution_count": 23,
   "id": "b84066d3-59e0-4c74-9de8-1999a7bf8cae",
   "metadata": {},
   "outputs": [
    {
     "name": "stdout",
     "output_type": "stream",
     "text": [
      "Верхний регистр: SHEREMETEV DANIIL ИУСМД01-22\n",
      "ничего не поменялось в самой переменной: Sheremetev Daniil ИУСмд01-22\n"
     ]
    }
   ],
   "source": [
    "#Task 7\n",
    "n = 'Sheremetev Daniil'\n",
    "nn = 'ИУСмд01-22'\n",
    "print('Верхний регистр: ' + n.upper() + ' ' +nn.upper())\n",
    "print('ничего не поменялось в самой переменной: ' + n + ' ' + nn)"
   ]
  },
  {
   "cell_type": "code",
   "execution_count": 25,
   "id": "c5a0e067-4f5d-4cba-8896-8d119fd8abdf",
   "metadata": {},
   "outputs": [
    {
     "name": "stdout",
     "output_type": "stream",
     "text": [
      "Sheremetev Daniil | <class 'str'> \n",
      " Группа УИСмд01-22 | <class 'str'> \n",
      " Оценка за экзамен 5 | <class 'int'> True | <class 'bool'> \n",
      " 39.4 | <class 'float'> \n",
      " None | <class 'NoneType'> \n",
      " ('a', 5, 12.345, (2, 'b')) | <class 'tuple'> \n",
      " [['Иван Иванов', 22, 'м'], ['Светлана О.', 18, 'ж']] | <class 'list'> \n",
      " {1, 'title', 2, 'content'} | <class 'set'>\n"
     ]
    }
   ],
   "source": [
    "#Task 8\n",
    "s = 'Sheremetev Daniil'\n",
    "s1 = 'Группа УИСмд01-22'\n",
    "k = 5\n",
    "q = k > 3\n",
    "x = 3+5.2*7\n",
    "y = None\n",
    "z = 'a', 5, 12.345, (2, 'b')\n",
    "df = [['Иван Иванов', 22, 'м'], ['Светлана О.', 18, 'ж']]\n",
    "A = {1, 'title', 2, 'content'}\n",
    "print(s, '|', type(s), '\\n', s1, '|', type(s1), '\\n',\n",
    "     'Оценка за экзамен', k, '|', type(k), q, '|', type(q), '\\n',\n",
    "      x, '|', type(x), '\\n', y, '|', type(y), '\\n',\n",
    "      z, '|', type(z), '\\n',  df, '|', type(df), '\\n',\n",
    "      A, '|', type(A))"
   ]
  },
  {
   "cell_type": "code",
   "execution_count": 27,
   "id": "e43b9e3d-86c9-40c2-99a8-e461a0937ce5",
   "metadata": {},
   "outputs": [
    {
     "name": "stdout",
     "output_type": "stream",
     "text": [
      "{1.2, 2, 3, 4, 5, 2.2, 2.3, 2.4, 'q', 'r', 'w', 'e'} | <class 'set'>\n"
     ]
    }
   ],
   "source": [
    "#Task 9\n",
    "a = {2, 2, 5, 4, 3, 1.2, 1.2, 2.2, 2.3, 2.4, 'q', 'q', 'w', 'e', 'r'}\n",
    "print(a, '|', type(a))\n",
    "#ниже показал по сути теор.часть, но именно этим оно и отличается"
   ]
  },
  {
   "cell_type": "markdown",
   "id": "04a983ef-6ee0-43bb-9ef8-d68805d13f44",
   "metadata": {},
   "source": [
    "Множество – это набор, в котором элементы не повторяются (то есть, как и в математическом определении множества).\n",
    "Даже, если при задании элементов множества или копировании элементов массива в переменную типа множество будет указано несколько раз одинаковый элемент, при выводе множества можно убедится, что он будет один.\n",
    "Тип данных множество языка Python устроен совсем не так, как массив или кортеж, элементы множества хранятся не последовательно, поэтому к элементам множества нельзя обращаться по индексу."
   ]
  },
  {
   "cell_type": "code",
   "execution_count": 28,
   "id": "9ae65a75-2d8e-4953-b0d2-a097738a8f5d",
   "metadata": {},
   "outputs": [
    {
     "name": "stdout",
     "output_type": "stream",
     "text": [
      "обычное:  {1, 2, 3, 4, 5, 6, 8, 10} | union:  {1, 2, 3, 4, 5, 6, 8, 10} \n",
      " обычное:  {1, 2} | intersection:  {1, 2} \n",
      " обычное:  {3, 4, 5} | difference:  {3, 4, 5} \n",
      " обычное:  {3, 4, 5, 6, 8, 10} | symmetric_difference:  {3, 4, 5, 6, 8, 10} \n",
      "\n"
     ]
    }
   ],
   "source": [
    "#Task 10\n",
    "A = {1, 2, 3, 4, 5}\n",
    "B = {2, 6, 1, 8, 10}\n",
    "print('обычное: ', A | B,'|','union: ', A.union(B),'\\n',\n",
    "     'обычное: ', A & B,'|','intersection: ', A.intersection(B),'\\n',\n",
    "     'обычное: ', A - B,'|','difference: ', A.difference(B),'\\n',\n",
    "     'обычное: ', A ^ B,'|','symmetric_difference: ', A.symmetric_difference(B),'\\n',)"
   ]
  },
  {
   "cell_type": "code",
   "execution_count": 31,
   "id": "487b55eb-0d91-4477-9be1-0de30253e427",
   "metadata": {},
   "outputs": [
    {
     "data": {
      "text/plain": [
       "True"
      ]
     },
     "execution_count": 31,
     "metadata": {},
     "output_type": "execute_result"
    }
   ],
   "source": [
    "#Task 11\n",
    "Set1 = {1, 3, 4, 5, 5}\n",
    "Set2 = {4, 5}\n",
    "Set2.issubset(Set1) # проверяет наличие всех элементов множества в последовательности"
   ]
  },
  {
   "cell_type": "code",
   "execution_count": 8,
   "id": "8f9e867b-af9d-4cac-8a57-b48fa04cdac1",
   "metadata": {},
   "outputs": [],
   "source": [
    "###pip install matplotlib_venn"
   ]
  },
  {
   "cell_type": "markdown",
   "id": "e053e1c9-2e66-4043-8eb9-26f1ffd5bc49",
   "metadata": {},
   "source": [
    "По какой-то причине скачанный пакет у меня не работает, так что я просто напишу код, но не смогу его запустить\n",
    "\n",
    "Я вам сразу свои ошибки выведу, чтобы понятней было\n",
    "\n",
    "То есть после pip install... у меня пакет не работает все равно "
   ]
  },
  {
   "cell_type": "code",
   "execution_count": 6,
   "id": "1c133066-6be1-4457-8652-aa330c56e60c",
   "metadata": {},
   "outputs": [
    {
     "ename": "ModuleNotFoundError",
     "evalue": "No module named 'matplotlib_venn'",
     "output_type": "error",
     "traceback": [
      "\u001b[0;31m---------------------------------------------------------------------------\u001b[0m",
      "\u001b[0;31mModuleNotFoundError\u001b[0m                       Traceback (most recent call last)",
      "Input \u001b[0;32mIn [6]\u001b[0m, in \u001b[0;36m<cell line: 2>\u001b[0;34m()\u001b[0m\n\u001b[1;32m      1\u001b[0m \u001b[38;5;66;03m#Task 12\u001b[39;00m\n\u001b[0;32m----> 2\u001b[0m \u001b[38;5;28;01mfrom\u001b[39;00m \u001b[38;5;21;01mmatplotlib_venn\u001b[39;00m \u001b[38;5;28;01mimport\u001b[39;00m venn2, venn2_unweighted, venn2_circles, venn3, venn3_circles\n\u001b[1;32m      3\u001b[0m \u001b[38;5;28;01mimport\u001b[39;00m \u001b[38;5;21;01mmatplotlib\u001b[39;00m\u001b[38;5;21;01m.\u001b[39;00m\u001b[38;5;21;01mpyplot\u001b[39;00m \u001b[38;5;28;01mas\u001b[39;00m \u001b[38;5;21;01mplt\u001b[39;00m\n\u001b[1;32m      6\u001b[0m venn2(subsets \u001b[38;5;241m=\u001b[39m [\u001b[38;5;241m40\u001b[39m, \u001b[38;5;241m15\u001b[39m, \u001b[38;5;241m20\u001b[39m], set_labels \u001b[38;5;241m=\u001b[39m (\u001b[38;5;124m'\u001b[39m\u001b[38;5;124mSet1\u001b[39m\u001b[38;5;124m'\u001b[39m, \u001b[38;5;124m'\u001b[39m\u001b[38;5;124mSet2\u001b[39m\u001b[38;5;124m'\u001b[39m), set_colors\u001b[38;5;241m=\u001b[39m[\u001b[38;5;124m'\u001b[39m\u001b[38;5;124mblue\u001b[39m\u001b[38;5;124m'\u001b[39m, \u001b[38;5;124m'\u001b[39m\u001b[38;5;124mred\u001b[39m\u001b[38;5;124m'\u001b[39m], alpha\u001b[38;5;241m=\u001b[39m\u001b[38;5;241m0.5\u001b[39m)\n",
      "\u001b[0;31mModuleNotFoundError\u001b[0m: No module named 'matplotlib_venn'"
     ]
    }
   ],
   "source": [
    "#Task 12\n",
    "from matplotlib_venn import venn2, venn2_unweighted, venn2_circles, venn3, venn3_circles\n",
    "import matplotlib.pyplot as plt\n",
    "\n",
    "\n",
    "venn2(subsets = [40, 15, 20], set_labels = ('Set1', 'Set2'), set_colors=['blue', 'red'], alpha=0.5)\n",
    "venn2_circles(subsets=(set1, set2))\n",
    "plt.show()"
   ]
  },
  {
   "cell_type": "code",
   "execution_count": 17,
   "id": "e2f6bd38-bb05-494a-b121-49e013841872",
   "metadata": {},
   "outputs": [
    {
     "ename": "NameError",
     "evalue": "name 'venn3' is not defined",
     "output_type": "error",
     "traceback": [
      "\u001b[0;31m---------------------------------------------------------------------------\u001b[0m",
      "\u001b[0;31mNameError\u001b[0m                                 Traceback (most recent call last)",
      "Input \u001b[0;32mIn [17]\u001b[0m, in \u001b[0;36m<cell line: 5>\u001b[0;34m()\u001b[0m\n\u001b[1;32m      2\u001b[0m Set2 \u001b[38;5;241m=\u001b[39m {\u001b[38;5;241m4\u001b[39m, \u001b[38;5;241m5\u001b[39m, \u001b[38;5;241m4\u001b[39m, \u001b[38;5;241m1\u001b[39m}\n\u001b[1;32m      3\u001b[0m Set3 \u001b[38;5;241m=\u001b[39m {\u001b[38;5;241m1\u001b[39m, \u001b[38;5;241m2\u001b[39m, \u001b[38;5;241m3\u001b[39m, \u001b[38;5;241m4\u001b[39m, \u001b[38;5;241m5\u001b[39m, \u001b[38;5;241m6\u001b[39m}\n\u001b[0;32m----> 5\u001b[0m \u001b[43mvenn3\u001b[49m(subsets \u001b[38;5;241m=\u001b[39m [Set1, Set2, Set3], set_labels \u001b[38;5;241m=\u001b[39m (\u001b[38;5;124m'\u001b[39m\u001b[38;5;124mSet1\u001b[39m\u001b[38;5;124m'\u001b[39m, \u001b[38;5;124m'\u001b[39m\u001b[38;5;124mSet2\u001b[39m\u001b[38;5;124m'\u001b[39m, \u001b[38;5;124m'\u001b[39m\u001b[38;5;124mSet3\u001b[39m\u001b[38;5;124m'\u001b[39m), \n\u001b[1;32m      6\u001b[0m       set_colors\u001b[38;5;241m=\u001b[39m[\u001b[38;5;124m'\u001b[39m\u001b[38;5;124mblue\u001b[39m\u001b[38;5;124m'\u001b[39m, \u001b[38;5;124m'\u001b[39m\u001b[38;5;124mred\u001b[39m\u001b[38;5;124m'\u001b[39m, \u001b[38;5;124m'\u001b[39m\u001b[38;5;124mgreen\u001b[39m\u001b[38;5;124m'\u001b[39m], alpha\u001b[38;5;241m=\u001b[39m\u001b[38;5;241m0.5\u001b[39m)\n\u001b[1;32m      7\u001b[0m venn2_circles(subsets\u001b[38;5;241m=\u001b[39m(Set1, Set2, Set4))\n\u001b[1;32m      8\u001b[0m plt\u001b[38;5;241m.\u001b[39mshow()\n",
      "\u001b[0;31mNameError\u001b[0m: name 'venn3' is not defined"
     ]
    }
   ],
   "source": [
    "#Task 13\n",
    "Set1 = {1, 3, 4, 5, 5}\n",
    "Set2 = {4, 5, 4, 1}\n",
    "Set3 = {1, 2, 3, 4, 5, 6}\n",
    "\n",
    "venn3(subsets = [Set1, Set2, Set3], set_labels = ('Set1', 'Set2', 'Set3'), \n",
    "      set_colors=['blue', 'red', 'green'], alpha=0.5)\n",
    "venn2_circles(subsets=(Set1, Set2, Set4))\n",
    "plt.show()"
   ]
  },
  {
   "cell_type": "code",
   "execution_count": null,
   "id": "194340f8-9c50-4eff-8cf8-e32a7aa76d21",
   "metadata": {},
   "outputs": [],
   "source": []
  },
  {
   "cell_type": "code",
   "execution_count": null,
   "id": "c306a193-8522-46bb-a97a-2714768a412c",
   "metadata": {},
   "outputs": [],
   "source": []
  }
 ],
 "metadata": {
  "kernelspec": {
   "display_name": "Python 3 (ipykernel)",
   "language": "python",
   "name": "python3"
  },
  "language_info": {
   "codemirror_mode": {
    "name": "ipython",
    "version": 3
   },
   "file_extension": ".py",
   "mimetype": "text/x-python",
   "name": "python",
   "nbconvert_exporter": "python",
   "pygments_lexer": "ipython3",
   "version": "3.9.12"
  }
 },
 "nbformat": 4,
 "nbformat_minor": 5
}

{
 "cells": [
  {
   "cell_type": "code",
   "execution_count": 2,
   "id": "3a53988b-40a6-4492-8147-7a66be65109d",
   "metadata": {},
   "outputs": [],
   "source": [
    "import numpy as np\n",
    "seed = 47"
   ]
  },
  {
   "cell_type": "code",
   "execution_count": 3,
   "id": "6ebe85c4-f575-4ab3-a96f-9453ce569696",
   "metadata": {},
   "outputs": [
    {
     "name": "stdout",
     "output_type": "stream",
     "text": [
      "[[0 1 0 1 0 1 0 1]\n",
      " [1 0 1 0 1 0 1 0]\n",
      " [0 1 0 1 0 1 0 1]\n",
      " [1 0 1 0 1 0 1 0]\n",
      " [0 1 0 1 0 1 0 1]\n",
      " [1 0 1 0 1 0 1 0]\n",
      " [0 1 0 1 0 1 0 1]\n",
      " [1 0 1 0 1 0 1 0]]\n"
     ]
    }
   ],
   "source": [
    "#Task 1\n",
    "x = np.ones((3,3))\n",
    "x = np.zeros((8,8),dtype=int)\n",
    "x[1::2,::2] = 1\n",
    "x[::2,1::2] = 1\n",
    "print(x)"
   ]
  },
  {
   "cell_type": "code",
   "execution_count": 4,
   "id": "eefcb60d-1272-48b7-be49-86a26d45ae42",
   "metadata": {},
   "outputs": [
    {
     "data": {
      "text/plain": [
       "array([[0., 1., 2., 3., 4.],\n",
       "       [0., 1., 2., 3., 4.],\n",
       "       [0., 1., 2., 3., 4.],\n",
       "       [0., 1., 2., 3., 4.],\n",
       "       [0., 1., 2., 3., 4.]])"
      ]
     },
     "execution_count": 4,
     "metadata": {},
     "output_type": "execute_result"
    }
   ],
   "source": [
    "#Task 2\n",
    "x = np.zeros((5,5))\n",
    "x += np.arange(5)\n",
    "x"
   ]
  },
  {
   "cell_type": "code",
   "execution_count": 5,
   "id": "554084ec-255f-490d-98d8-05ed8da41ec8",
   "metadata": {},
   "outputs": [
    {
     "data": {
      "text/plain": [
       "[[0, 1, 2, 3, 4],\n",
       " [0, 1, 2, 3, 4],\n",
       " [0, 1, 2, 3, 4],\n",
       " [0, 1, 2, 3, 4],\n",
       " [0, 1, 2, 3, 4]]"
      ]
     },
     "execution_count": 5,
     "metadata": {},
     "output_type": "execute_result"
    }
   ],
   "source": [
    "[[j for j in range(5)] for i in range(5)]"
   ]
  },
  {
   "cell_type": "code",
   "execution_count": 6,
   "id": "37408e30-605a-458f-9037-0a0ebde3a973",
   "metadata": {},
   "outputs": [
    {
     "data": {
      "text/plain": [
       "array([[[0.81926951, 0.33872775, 0.39052432],\n",
       "        [0.55798349, 0.93868063, 0.38516576],\n",
       "        [0.98110077, 0.0070647 , 0.67694063]],\n",
       "\n",
       "       [[0.05070721, 0.06287338, 0.89275337],\n",
       "        [0.21709235, 0.42594027, 0.0843733 ],\n",
       "        [0.56677208, 0.00509528, 0.52872028]],\n",
       "\n",
       "       [[0.55453722, 0.48459787, 0.61141875],\n",
       "        [0.46397528, 0.33415121, 0.18973857],\n",
       "        [0.2882955 , 0.38008023, 0.05717768]]])"
      ]
     },
     "execution_count": 6,
     "metadata": {},
     "output_type": "execute_result"
    }
   ],
   "source": [
    "#Task 3\n",
    "x = np.random.random((3,3,3))\n",
    "x"
   ]
  },
  {
   "cell_type": "code",
   "execution_count": 7,
   "id": "e66d64d5-c4e9-4955-8f26-2e8f97485c1d",
   "metadata": {},
   "outputs": [
    {
     "name": "stdout",
     "output_type": "stream",
     "text": [
      "[[1. 1. 1. 1.]\n",
      " [1. 0. 0. 1.]\n",
      " [1. 0. 0. 1.]\n",
      " [1. 1. 1. 1.]]\n"
     ]
    }
   ],
   "source": [
    "#Task 4\n",
    "x = np.ones((4, 4))\n",
    "x[1:-1, 1:-1] = 0\n",
    "print(x)"
   ]
  },
  {
   "cell_type": "code",
   "execution_count": 8,
   "id": "f860d0a2-6e26-43cb-a7c8-f6b5e9f39c72",
   "metadata": {},
   "outputs": [
    {
     "data": {
      "text/plain": [
       "array([0.98706409, 0.27491855, 0.77278815, 0.44441683, 0.58374733,\n",
       "       0.9663571 , 0.15926786, 0.31665959, 0.0278508 , 0.47715656])"
      ]
     },
     "execution_count": 8,
     "metadata": {},
     "output_type": "execute_result"
    }
   ],
   "source": [
    "#Task 5\n",
    "x = np.random.random(10)\n",
    "x"
   ]
  },
  {
   "cell_type": "code",
   "execution_count": 9,
   "id": "45710170-f779-4c7c-8fb7-90803af19dfe",
   "metadata": {},
   "outputs": [
    {
     "data": {
      "text/plain": [
       "[0.9870640948331059,\n",
       " 0.9663571031975245,\n",
       " 0.7727881508127967,\n",
       " 0.5837473326393845,\n",
       " 0.47715655855848416,\n",
       " 0.44441683275444344,\n",
       " 0.3166595869762998,\n",
       " 0.2749185496879969,\n",
       " 0.1592678628438451,\n",
       " 0.027850802505735905]"
      ]
     },
     "execution_count": 9,
     "metadata": {},
     "output_type": "execute_result"
    }
   ],
   "source": [
    "sorted(x, reverse=True)"
   ]
  },
  {
   "cell_type": "code",
   "execution_count": 10,
   "id": "141a9779-82c3-4fe1-9397-7cf4a2089d7e",
   "metadata": {},
   "outputs": [
    {
     "name": "stdout",
     "output_type": "stream",
     "text": [
      "[[[0.26897457 0.85960693]\n",
      "  [0.46259562 0.62062347]]\n",
      "\n",
      " [[0.56293393 0.42988701]\n",
      "  [0.58818203 0.54113464]]]\n"
     ]
    },
    {
     "data": {
      "text/plain": [
       "(2, 2, 2)"
      ]
     },
     "execution_count": 10,
     "metadata": {},
     "output_type": "execute_result"
    }
   ],
   "source": [
    "#Task 6\n",
    "a = np.random.random((2, 2, 2))\n",
    "print(a)\n",
    "a.shape"
   ]
  },
  {
   "cell_type": "code",
   "execution_count": 11,
   "id": "ab1e1528-0227-48f9-b8c6-51c683ac75e0",
   "metadata": {},
   "outputs": [],
   "source": [
    "import pandas as pd"
   ]
  },
  {
   "cell_type": "code",
   "execution_count": 12,
   "id": "4027cbd5-e51f-4f02-be14-3a7a273acfb5",
   "metadata": {},
   "outputs": [
    {
     "data": {
      "text/html": [
       "<div>\n",
       "<style scoped>\n",
       "    .dataframe tbody tr th:only-of-type {\n",
       "        vertical-align: middle;\n",
       "    }\n",
       "\n",
       "    .dataframe tbody tr th {\n",
       "        vertical-align: top;\n",
       "    }\n",
       "\n",
       "    .dataframe thead th {\n",
       "        text-align: right;\n",
       "    }\n",
       "</style>\n",
       "<table border=\"1\" class=\"dataframe\">\n",
       "  <thead>\n",
       "    <tr style=\"text-align: right;\">\n",
       "      <th></th>\n",
       "      <th>age</th>\n",
       "      <th>workclass</th>\n",
       "      <th>education_num</th>\n",
       "      <th>marital_status</th>\n",
       "      <th>occupation</th>\n",
       "      <th>relationship</th>\n",
       "      <th>race</th>\n",
       "      <th>gender</th>\n",
       "      <th>hours_per_week</th>\n",
       "      <th>native_country</th>\n",
       "      <th>capital</th>\n",
       "      <th>income_status</th>\n",
       "    </tr>\n",
       "  </thead>\n",
       "  <tbody>\n",
       "    <tr>\n",
       "      <th>0</th>\n",
       "      <td>39</td>\n",
       "      <td>State-gov</td>\n",
       "      <td>13</td>\n",
       "      <td>Never-married</td>\n",
       "      <td>Adm-clerical</td>\n",
       "      <td>Not-in-family</td>\n",
       "      <td>White</td>\n",
       "      <td>Male</td>\n",
       "      <td>40</td>\n",
       "      <td>United-States</td>\n",
       "      <td>2174</td>\n",
       "      <td>&lt;=50K</td>\n",
       "    </tr>\n",
       "    <tr>\n",
       "      <th>1</th>\n",
       "      <td>50</td>\n",
       "      <td>Self-emp-not-inc</td>\n",
       "      <td>13</td>\n",
       "      <td>Married-civ-spouse</td>\n",
       "      <td>Exec-managerial</td>\n",
       "      <td>Husband</td>\n",
       "      <td>White</td>\n",
       "      <td>Male</td>\n",
       "      <td>13</td>\n",
       "      <td>United-States</td>\n",
       "      <td>0</td>\n",
       "      <td>&lt;=50K</td>\n",
       "    </tr>\n",
       "  </tbody>\n",
       "</table>\n",
       "</div>"
      ],
      "text/plain": [
       "   age         workclass  education_num      marital_status       occupation  \\\n",
       "0   39         State-gov             13       Never-married     Adm-clerical   \n",
       "1   50  Self-emp-not-inc             13  Married-civ-spouse  Exec-managerial   \n",
       "\n",
       "    relationship   race gender  hours_per_week native_country  capital  \\\n",
       "0  Not-in-family  White   Male              40  United-States     2174   \n",
       "1        Husband  White   Male              13  United-States        0   \n",
       "\n",
       "  income_status  \n",
       "0         <=50K  \n",
       "1         <=50K  "
      ]
     },
     "execution_count": 12,
     "metadata": {},
     "output_type": "execute_result"
    }
   ],
   "source": [
    "#Task 7-8\n",
    "df = pd.read_csv('adult.csv')\n",
    "df.head(2)"
   ]
  },
  {
   "cell_type": "code",
   "execution_count": 13,
   "id": "4b5daa29-475b-43f1-a2dc-6c349a2b921b",
   "metadata": {},
   "outputs": [
    {
     "data": {
      "text/html": [
       "<div>\n",
       "<style scoped>\n",
       "    .dataframe tbody tr th:only-of-type {\n",
       "        vertical-align: middle;\n",
       "    }\n",
       "\n",
       "    .dataframe tbody tr th {\n",
       "        vertical-align: top;\n",
       "    }\n",
       "\n",
       "    .dataframe thead th {\n",
       "        text-align: right;\n",
       "    }\n",
       "</style>\n",
       "<table border=\"1\" class=\"dataframe\">\n",
       "  <thead>\n",
       "    <tr style=\"text-align: right;\">\n",
       "      <th></th>\n",
       "      <th>age</th>\n",
       "      <th>workclass</th>\n",
       "      <th>education_num</th>\n",
       "      <th>marital_status</th>\n",
       "      <th>occupation</th>\n",
       "      <th>relationship</th>\n",
       "      <th>race</th>\n",
       "      <th>gender</th>\n",
       "      <th>hours_per_week</th>\n",
       "      <th>native_country</th>\n",
       "      <th>capital</th>\n",
       "      <th>income_status</th>\n",
       "    </tr>\n",
       "  </thead>\n",
       "  <tbody>\n",
       "    <tr>\n",
       "      <th>45220</th>\n",
       "      <td>44</td>\n",
       "      <td>Private</td>\n",
       "      <td>13</td>\n",
       "      <td>Divorced</td>\n",
       "      <td>Adm-clerical</td>\n",
       "      <td>Own-child</td>\n",
       "      <td>Other</td>\n",
       "      <td>Male</td>\n",
       "      <td>40</td>\n",
       "      <td>United-States</td>\n",
       "      <td>5455</td>\n",
       "      <td>&lt;=50K</td>\n",
       "    </tr>\n",
       "    <tr>\n",
       "      <th>45221</th>\n",
       "      <td>35</td>\n",
       "      <td>Self-emp-inc</td>\n",
       "      <td>13</td>\n",
       "      <td>Married-civ-spouse</td>\n",
       "      <td>Exec-managerial</td>\n",
       "      <td>Husband</td>\n",
       "      <td>White</td>\n",
       "      <td>Male</td>\n",
       "      <td>60</td>\n",
       "      <td>United-States</td>\n",
       "      <td>0</td>\n",
       "      <td>&gt;50K</td>\n",
       "    </tr>\n",
       "  </tbody>\n",
       "</table>\n",
       "</div>"
      ],
      "text/plain": [
       "       age     workclass  education_num      marital_status       occupation  \\\n",
       "45220   44       Private             13            Divorced     Adm-clerical   \n",
       "45221   35  Self-emp-inc             13  Married-civ-spouse  Exec-managerial   \n",
       "\n",
       "      relationship   race gender  hours_per_week native_country  capital  \\\n",
       "45220    Own-child  Other   Male              40  United-States     5455   \n",
       "45221      Husband  White   Male              60  United-States        0   \n",
       "\n",
       "      income_status  \n",
       "45220         <=50K  \n",
       "45221          >50K  "
      ]
     },
     "execution_count": 13,
     "metadata": {},
     "output_type": "execute_result"
    }
   ],
   "source": [
    "df.tail(2)"
   ]
  },
  {
   "cell_type": "code",
   "execution_count": 14,
   "id": "58b57acc-3431-44ac-897d-e8c96e121aaf",
   "metadata": {},
   "outputs": [
    {
     "data": {
      "text/plain": [
       "(45222, 12)"
      ]
     },
     "execution_count": 14,
     "metadata": {},
     "output_type": "execute_result"
    }
   ],
   "source": [
    "df.shape"
   ]
  },
  {
   "cell_type": "code",
   "execution_count": 15,
   "id": "e025c598-e6be-4d2e-921d-5535092a3ea3",
   "metadata": {},
   "outputs": [
    {
     "data": {
      "text/html": [
       "<div>\n",
       "<style scoped>\n",
       "    .dataframe tbody tr th:only-of-type {\n",
       "        vertical-align: middle;\n",
       "    }\n",
       "\n",
       "    .dataframe tbody tr th {\n",
       "        vertical-align: top;\n",
       "    }\n",
       "\n",
       "    .dataframe thead th {\n",
       "        text-align: right;\n",
       "    }\n",
       "</style>\n",
       "<table border=\"1\" class=\"dataframe\">\n",
       "  <thead>\n",
       "    <tr style=\"text-align: right;\">\n",
       "      <th></th>\n",
       "      <th>age</th>\n",
       "      <th>education_num</th>\n",
       "      <th>hours_per_week</th>\n",
       "      <th>capital</th>\n",
       "    </tr>\n",
       "  </thead>\n",
       "  <tbody>\n",
       "    <tr>\n",
       "      <th>count</th>\n",
       "      <td>45222.000000</td>\n",
       "      <td>45222.000000</td>\n",
       "      <td>45222.000000</td>\n",
       "      <td>45222.000000</td>\n",
       "    </tr>\n",
       "    <tr>\n",
       "      <th>mean</th>\n",
       "      <td>38.547941</td>\n",
       "      <td>10.118460</td>\n",
       "      <td>40.938017</td>\n",
       "      <td>1012.834925</td>\n",
       "    </tr>\n",
       "    <tr>\n",
       "      <th>std</th>\n",
       "      <td>13.217870</td>\n",
       "      <td>2.552881</td>\n",
       "      <td>12.007508</td>\n",
       "      <td>7530.315380</td>\n",
       "    </tr>\n",
       "    <tr>\n",
       "      <th>min</th>\n",
       "      <td>17.000000</td>\n",
       "      <td>1.000000</td>\n",
       "      <td>1.000000</td>\n",
       "      <td>-4356.000000</td>\n",
       "    </tr>\n",
       "    <tr>\n",
       "      <th>25%</th>\n",
       "      <td>28.000000</td>\n",
       "      <td>9.000000</td>\n",
       "      <td>40.000000</td>\n",
       "      <td>0.000000</td>\n",
       "    </tr>\n",
       "    <tr>\n",
       "      <th>50%</th>\n",
       "      <td>37.000000</td>\n",
       "      <td>10.000000</td>\n",
       "      <td>40.000000</td>\n",
       "      <td>0.000000</td>\n",
       "    </tr>\n",
       "    <tr>\n",
       "      <th>75%</th>\n",
       "      <td>47.000000</td>\n",
       "      <td>13.000000</td>\n",
       "      <td>45.000000</td>\n",
       "      <td>0.000000</td>\n",
       "    </tr>\n",
       "    <tr>\n",
       "      <th>max</th>\n",
       "      <td>90.000000</td>\n",
       "      <td>16.000000</td>\n",
       "      <td>99.000000</td>\n",
       "      <td>99999.000000</td>\n",
       "    </tr>\n",
       "  </tbody>\n",
       "</table>\n",
       "</div>"
      ],
      "text/plain": [
       "                age  education_num  hours_per_week       capital\n",
       "count  45222.000000   45222.000000    45222.000000  45222.000000\n",
       "mean      38.547941      10.118460       40.938017   1012.834925\n",
       "std       13.217870       2.552881       12.007508   7530.315380\n",
       "min       17.000000       1.000000        1.000000  -4356.000000\n",
       "25%       28.000000       9.000000       40.000000      0.000000\n",
       "50%       37.000000      10.000000       40.000000      0.000000\n",
       "75%       47.000000      13.000000       45.000000      0.000000\n",
       "max       90.000000      16.000000       99.000000  99999.000000"
      ]
     },
     "execution_count": 15,
     "metadata": {},
     "output_type": "execute_result"
    }
   ],
   "source": [
    "df.describe()"
   ]
  },
  {
   "cell_type": "code",
   "execution_count": 23,
   "id": "a47ee099-b0ed-44a2-89b3-5ed3028dde3d",
   "metadata": {
    "tags": []
   },
   "outputs": [
    {
     "data": {
      "text/plain": [
       "array([[0.22222222],\n",
       "       [0.16666667],\n",
       "       [0.11111111],\n",
       "       [0.08333333],\n",
       "       [0.19444444],\n",
       "       [0.30555556],\n",
       "       [0.08333333],\n",
       "       [0.19444444],\n",
       "       [0.02777778],\n",
       "       [0.16666667],\n",
       "       [0.30555556],\n",
       "       [0.13888889],\n",
       "       [0.13888889],\n",
       "       [0.        ],\n",
       "       [0.41666667],\n",
       "       [0.38888889],\n",
       "       [0.30555556],\n",
       "       [0.22222222],\n",
       "       [0.38888889],\n",
       "       [0.22222222],\n",
       "       [0.30555556],\n",
       "       [0.22222222],\n",
       "       [0.08333333],\n",
       "       [0.22222222],\n",
       "       [0.13888889],\n",
       "       [0.19444444],\n",
       "       [0.19444444],\n",
       "       [0.25      ],\n",
       "       [0.25      ],\n",
       "       [0.11111111],\n",
       "       [0.13888889],\n",
       "       [0.30555556],\n",
       "       [0.25      ],\n",
       "       [0.33333333],\n",
       "       [0.16666667],\n",
       "       [0.19444444],\n",
       "       [0.33333333],\n",
       "       [0.16666667],\n",
       "       [0.02777778],\n",
       "       [0.22222222],\n",
       "       [0.19444444],\n",
       "       [0.05555556],\n",
       "       [0.02777778],\n",
       "       [0.19444444],\n",
       "       [0.22222222],\n",
       "       [0.13888889],\n",
       "       [0.22222222],\n",
       "       [0.08333333],\n",
       "       [0.27777778],\n",
       "       [0.19444444],\n",
       "       [0.75      ],\n",
       "       [0.58333333],\n",
       "       [0.72222222],\n",
       "       [0.33333333],\n",
       "       [0.61111111],\n",
       "       [0.38888889],\n",
       "       [0.55555556],\n",
       "       [0.16666667],\n",
       "       [0.63888889],\n",
       "       [0.25      ],\n",
       "       [0.19444444],\n",
       "       [0.44444444],\n",
       "       [0.47222222],\n",
       "       [0.5       ],\n",
       "       [0.36111111],\n",
       "       [0.66666667],\n",
       "       [0.36111111],\n",
       "       [0.41666667],\n",
       "       [0.52777778],\n",
       "       [0.36111111],\n",
       "       [0.44444444],\n",
       "       [0.5       ],\n",
       "       [0.55555556],\n",
       "       [0.5       ],\n",
       "       [0.58333333],\n",
       "       [0.63888889],\n",
       "       [0.69444444],\n",
       "       [0.66666667],\n",
       "       [0.47222222],\n",
       "       [0.38888889],\n",
       "       [0.33333333],\n",
       "       [0.33333333],\n",
       "       [0.41666667],\n",
       "       [0.47222222],\n",
       "       [0.30555556],\n",
       "       [0.47222222],\n",
       "       [0.66666667],\n",
       "       [0.55555556],\n",
       "       [0.36111111],\n",
       "       [0.33333333],\n",
       "       [0.33333333],\n",
       "       [0.5       ],\n",
       "       [0.41666667],\n",
       "       [0.19444444],\n",
       "       [0.36111111],\n",
       "       [0.38888889],\n",
       "       [0.38888889],\n",
       "       [0.52777778],\n",
       "       [0.22222222],\n",
       "       [0.38888889],\n",
       "       [0.55555556],\n",
       "       [0.41666667],\n",
       "       [0.77777778],\n",
       "       [0.55555556],\n",
       "       [0.61111111],\n",
       "       [0.91666667],\n",
       "       [0.16666667],\n",
       "       [0.83333333],\n",
       "       [0.66666667],\n",
       "       [0.80555556],\n",
       "       [0.61111111],\n",
       "       [0.58333333],\n",
       "       [0.69444444],\n",
       "       [0.38888889],\n",
       "       [0.41666667],\n",
       "       [0.58333333],\n",
       "       [0.61111111],\n",
       "       [0.94444444],\n",
       "       [0.94444444],\n",
       "       [0.47222222],\n",
       "       [0.72222222],\n",
       "       [0.36111111],\n",
       "       [0.94444444],\n",
       "       [0.55555556],\n",
       "       [0.66666667],\n",
       "       [0.80555556],\n",
       "       [0.52777778],\n",
       "       [0.5       ],\n",
       "       [0.58333333],\n",
       "       [0.80555556],\n",
       "       [0.86111111],\n",
       "       [1.        ],\n",
       "       [0.58333333],\n",
       "       [0.55555556],\n",
       "       [0.5       ],\n",
       "       [0.94444444],\n",
       "       [0.55555556],\n",
       "       [0.58333333],\n",
       "       [0.47222222],\n",
       "       [0.72222222],\n",
       "       [0.66666667],\n",
       "       [0.72222222],\n",
       "       [0.41666667],\n",
       "       [0.69444444],\n",
       "       [0.66666667],\n",
       "       [0.66666667],\n",
       "       [0.55555556],\n",
       "       [0.61111111],\n",
       "       [0.52777778],\n",
       "       [0.44444444]])"
      ]
     },
     "execution_count": 23,
     "metadata": {},
     "output_type": "execute_result"
    }
   ],
   "source": [
    "#Task 9\n",
    "from sklearn import preprocessing\n",
    "\n",
    "df2 = pd.read_csv('df_test.csv')\n",
    "\n",
    "X = df2['sepal_length_cm']\n",
    "\n",
    "X = X.values.reshape(-1,1)\n",
    "\n",
    "minmax_scale = preprocessing.MinMaxScaler(feature_range=(0, 1))\n",
    "\n",
    "X_scaled = minmax_scale.fit_transform(X)\n",
    "\n",
    "X_scaled"
   ]
  },
  {
   "cell_type": "markdown",
   "id": "d615db02-59bd-4b02-aac3-d61a2473ab61",
   "metadata": {},
   "source": [
    "Я не знаю почему так выходит, но так выходит\n",
    "Я прогнал на пробных данных ниже и все прекрасно получается..."
   ]
  },
  {
   "cell_type": "code",
   "execution_count": 17,
   "id": "0f26101e-cd79-4ec9-8a21-697bd74dbd4c",
   "metadata": {
    "tags": []
   },
   "outputs": [
    {
     "data": {
      "text/html": [
       "<div>\n",
       "<style scoped>\n",
       "    .dataframe tbody tr th:only-of-type {\n",
       "        vertical-align: middle;\n",
       "    }\n",
       "\n",
       "    .dataframe tbody tr th {\n",
       "        vertical-align: top;\n",
       "    }\n",
       "\n",
       "    .dataframe thead th {\n",
       "        text-align: right;\n",
       "    }\n",
       "</style>\n",
       "<table border=\"1\" class=\"dataframe\">\n",
       "  <thead>\n",
       "    <tr style=\"text-align: right;\">\n",
       "      <th></th>\n",
       "      <th>sepal_length_cm</th>\n",
       "      <th>sepal_width_cm</th>\n",
       "      <th>petal_length_cm</th>\n",
       "      <th>petal_width_cm</th>\n",
       "      <th>species</th>\n",
       "    </tr>\n",
       "  </thead>\n",
       "  <tbody>\n",
       "    <tr>\n",
       "      <th>0</th>\n",
       "      <td>5.1</td>\n",
       "      <td>3.5</td>\n",
       "      <td>1.4</td>\n",
       "      <td>0.2</td>\n",
       "      <td>setosa</td>\n",
       "    </tr>\n",
       "    <tr>\n",
       "      <th>1</th>\n",
       "      <td>4.9</td>\n",
       "      <td>3.0</td>\n",
       "      <td>1.4</td>\n",
       "      <td>0.2</td>\n",
       "      <td>setosa</td>\n",
       "    </tr>\n",
       "    <tr>\n",
       "      <th>2</th>\n",
       "      <td>4.7</td>\n",
       "      <td>3.2</td>\n",
       "      <td>1.3</td>\n",
       "      <td>0.2</td>\n",
       "      <td>setosa</td>\n",
       "    </tr>\n",
       "    <tr>\n",
       "      <th>3</th>\n",
       "      <td>4.6</td>\n",
       "      <td>3.1</td>\n",
       "      <td>1.5</td>\n",
       "      <td>0.2</td>\n",
       "      <td>setosa</td>\n",
       "    </tr>\n",
       "    <tr>\n",
       "      <th>4</th>\n",
       "      <td>5.0</td>\n",
       "      <td>3.6</td>\n",
       "      <td>1.4</td>\n",
       "      <td>0.2</td>\n",
       "      <td>setosa</td>\n",
       "    </tr>\n",
       "    <tr>\n",
       "      <th>...</th>\n",
       "      <td>...</td>\n",
       "      <td>...</td>\n",
       "      <td>...</td>\n",
       "      <td>...</td>\n",
       "      <td>...</td>\n",
       "    </tr>\n",
       "    <tr>\n",
       "      <th>145</th>\n",
       "      <td>6.7</td>\n",
       "      <td>3.0</td>\n",
       "      <td>5.2</td>\n",
       "      <td>2.3</td>\n",
       "      <td>virginica</td>\n",
       "    </tr>\n",
       "    <tr>\n",
       "      <th>146</th>\n",
       "      <td>6.3</td>\n",
       "      <td>2.5</td>\n",
       "      <td>5.0</td>\n",
       "      <td>1.9</td>\n",
       "      <td>virginica</td>\n",
       "    </tr>\n",
       "    <tr>\n",
       "      <th>147</th>\n",
       "      <td>6.5</td>\n",
       "      <td>3.0</td>\n",
       "      <td>5.2</td>\n",
       "      <td>2.0</td>\n",
       "      <td>virginica</td>\n",
       "    </tr>\n",
       "    <tr>\n",
       "      <th>148</th>\n",
       "      <td>6.2</td>\n",
       "      <td>3.4</td>\n",
       "      <td>5.4</td>\n",
       "      <td>2.3</td>\n",
       "      <td>virginica</td>\n",
       "    </tr>\n",
       "    <tr>\n",
       "      <th>149</th>\n",
       "      <td>5.9</td>\n",
       "      <td>3.0</td>\n",
       "      <td>5.1</td>\n",
       "      <td>1.8</td>\n",
       "      <td>virginica</td>\n",
       "    </tr>\n",
       "  </tbody>\n",
       "</table>\n",
       "<p>150 rows × 5 columns</p>\n",
       "</div>"
      ],
      "text/plain": [
       "     sepal_length_cm  sepal_width_cm  petal_length_cm  petal_width_cm  \\\n",
       "0                5.1             3.5              1.4             0.2   \n",
       "1                4.9             3.0              1.4             0.2   \n",
       "2                4.7             3.2              1.3             0.2   \n",
       "3                4.6             3.1              1.5             0.2   \n",
       "4                5.0             3.6              1.4             0.2   \n",
       "..               ...             ...              ...             ...   \n",
       "145              6.7             3.0              5.2             2.3   \n",
       "146              6.3             2.5              5.0             1.9   \n",
       "147              6.5             3.0              5.2             2.0   \n",
       "148              6.2             3.4              5.4             2.3   \n",
       "149              5.9             3.0              5.1             1.8   \n",
       "\n",
       "       species  \n",
       "0       setosa  \n",
       "1       setosa  \n",
       "2       setosa  \n",
       "3       setosa  \n",
       "4       setosa  \n",
       "..         ...  \n",
       "145  virginica  \n",
       "146  virginica  \n",
       "147  virginica  \n",
       "148  virginica  \n",
       "149  virginica  \n",
       "\n",
       "[150 rows x 5 columns]"
      ]
     },
     "execution_count": 17,
     "metadata": {},
     "output_type": "execute_result"
    }
   ],
   "source": []
  },
  {
   "cell_type": "code",
   "execution_count": 18,
   "id": "9ca782aa-db39-46a7-b0f7-1313dc700c52",
   "metadata": {},
   "outputs": [
    {
     "data": {
      "text/plain": [
       "array([[0.  , 0.  ],\n",
       "       [0.25, 0.25],\n",
       "       [0.5 , 0.5 ],\n",
       "       [1.  , 1.  ]])"
      ]
     },
     "execution_count": 18,
     "metadata": {},
     "output_type": "execute_result"
    }
   ],
   "source": [
    "df3 = [[-1, 2], [-0.5, 6], [0, 10], [1, 18]]\n",
    "\n",
    "minmax_scale = preprocessing.MinMaxScaler(feature_range=(0, 1))\n",
    "\n",
    "X_scaled = minmax_scale.fit_transform(df3)\n",
    "\n",
    "X_scaled"
   ]
  },
  {
   "cell_type": "code",
   "execution_count": 19,
   "id": "1523a1e5-79ba-4431-b019-4ec8b5434fb2",
   "metadata": {},
   "outputs": [
    {
     "data": {
      "text/plain": [
       "array([[-1.18321596, -1.18321596],\n",
       "       [-0.50709255, -0.50709255],\n",
       "       [ 0.16903085,  0.16903085],\n",
       "       [ 1.52127766,  1.52127766]])"
      ]
     },
     "execution_count": 19,
     "metadata": {},
     "output_type": "execute_result"
    }
   ],
   "source": [
    "scaler = preprocessing.StandardScaler()\n",
    "\n",
    "X2_scaled = scaler.fit_transform(df3)\n",
    "\n",
    "X2_scaled"
   ]
  },
  {
   "cell_type": "code",
   "execution_count": null,
   "id": "d2ab32fd-6536-4b60-98a4-63a98b361d63",
   "metadata": {},
   "outputs": [],
   "source": []
  },
  {
   "cell_type": "code",
   "execution_count": null,
   "id": "4e0eb499-e22b-49db-b251-2e2a283217df",
   "metadata": {},
   "outputs": [],
   "source": []
  },
  {
   "cell_type": "code",
   "execution_count": null,
   "id": "1d0a8e41-dbe2-4f1e-8cf9-c20346f3e093",
   "metadata": {},
   "outputs": [],
   "source": []
  },
  {
   "cell_type": "code",
   "execution_count": null,
   "id": "caccd30c-8235-43bc-be25-724f9c0bd634",
   "metadata": {},
   "outputs": [],
   "source": []
  }
 ],
 "metadata": {
  "kernelspec": {
   "display_name": "Python 3 (ipykernel)",
   "language": "python",
   "name": "python3"
  },
  "language_info": {
   "codemirror_mode": {
    "name": "ipython",
    "version": 3
   },
   "file_extension": ".py",
   "mimetype": "text/x-python",
   "name": "python",
   "nbconvert_exporter": "python",
   "pygments_lexer": "ipython3",
   "version": "3.9.12"
  }
 },
 "nbformat": 4,
 "nbformat_minor": 5
}
